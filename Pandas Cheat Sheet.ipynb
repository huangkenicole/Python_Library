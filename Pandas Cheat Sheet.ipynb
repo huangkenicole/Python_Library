{
 "cells": [
  {
   "cell_type": "markdown",
   "id": "463a9cc1",
   "metadata": {
    "toc": true
   },
   "source": [
    "<h1>Table of Contents<span class=\"tocSkip\"></span></h1>\n",
    "<div class=\"toc\"><ul class=\"toc-item\"><li><span><a href=\"#Set-up\" data-toc-modified-id=\"Set-up-1\"><span class=\"toc-item-num\">1&nbsp;&nbsp;</span>Set-up</a></span></li><li><span><a href=\"#Intro\" data-toc-modified-id=\"Intro-2\"><span class=\"toc-item-num\">2&nbsp;&nbsp;</span>Intro</a></span></li><li><span><a href=\"#Pandas-Data-Structures---2-Types\" data-toc-modified-id=\"Pandas-Data-Structures---2-Types-3\"><span class=\"toc-item-num\">3&nbsp;&nbsp;</span>Pandas Data Structures - 2 Types</a></span><ul class=\"toc-item\"><li><span><a href=\"#Series\" data-toc-modified-id=\"Series-3.1\"><span class=\"toc-item-num\">3.1&nbsp;&nbsp;</span>Series</a></span></li><li><span><a href=\"#DataFrame\" data-toc-modified-id=\"DataFrame-3.2\"><span class=\"toc-item-num\">3.2&nbsp;&nbsp;</span>DataFrame</a></span></li><li><span><a href=\"#Series-VS-DataFrame\" data-toc-modified-id=\"Series-VS-DataFrame-3.3\"><span class=\"toc-item-num\">3.3&nbsp;&nbsp;</span>Series VS DataFrame</a></span></li></ul></li><li><span><a href=\"#Dropping\" data-toc-modified-id=\"Dropping-4\"><span class=\"toc-item-num\">4&nbsp;&nbsp;</span>Dropping</a></span></li><li><span><a href=\"#Sort-&amp;-Rank\" data-toc-modified-id=\"Sort-&amp;-Rank-5\"><span class=\"toc-item-num\">5&nbsp;&nbsp;</span>Sort &amp; Rank</a></span></li><li><span><a href=\"#I/O\" data-toc-modified-id=\"I/O-6\"><span class=\"toc-item-num\">6&nbsp;&nbsp;</span>I/O</a></span><ul class=\"toc-item\"><li><span><a href=\"#CSV\" data-toc-modified-id=\"CSV-6.1\"><span class=\"toc-item-num\">6.1&nbsp;&nbsp;</span>CSV</a></span></li><li><span><a href=\"#Excel\" data-toc-modified-id=\"Excel-6.2\"><span class=\"toc-item-num\">6.2&nbsp;&nbsp;</span>Excel</a></span></li><li><span><a href=\"#SQL-Query/Database-Table\" data-toc-modified-id=\"SQL-Query/Database-Table-6.3\"><span class=\"toc-item-num\">6.3&nbsp;&nbsp;</span>SQL Query/Database Table</a></span></li></ul></li><li><span><a href=\"#Selection\" data-toc-modified-id=\"Selection-7\"><span class=\"toc-item-num\">7&nbsp;&nbsp;</span>Selection</a></span><ul class=\"toc-item\"><li><span><a href=\"#Getting\" data-toc-modified-id=\"Getting-7.1\"><span class=\"toc-item-num\">7.1&nbsp;&nbsp;</span>Getting</a></span></li><li><span><a href=\"#Selecting,-Boolean-Indexing-&amp;-Setting\" data-toc-modified-id=\"Selecting,-Boolean-Indexing-&amp;-Setting-7.2\"><span class=\"toc-item-num\">7.2&nbsp;&nbsp;</span>Selecting, Boolean Indexing &amp; Setting</a></span></li><li><span><a href=\"#loc和iloc区别\" data-toc-modified-id=\"loc和iloc区别-7.3\"><span class=\"toc-item-num\">7.3&nbsp;&nbsp;</span>loc和iloc区别</a></span></li></ul></li><li><span><a href=\"#Retrieving-Series/DataFrame-Information\" data-toc-modified-id=\"Retrieving-Series/DataFrame-Information-8\"><span class=\"toc-item-num\">8&nbsp;&nbsp;</span>Retrieving Series/DataFrame Information</a></span><ul class=\"toc-item\"><li><span><a href=\"#Summary\" data-toc-modified-id=\"Summary-8.1\"><span class=\"toc-item-num\">8.1&nbsp;&nbsp;</span>Summary</a></span></li></ul></li><li><span><a href=\"#Data-Alignment\" data-toc-modified-id=\"Data-Alignment-9\"><span class=\"toc-item-num\">9&nbsp;&nbsp;</span>Data Alignment</a></span><ul class=\"toc-item\"><li><span><a href=\"#Internal-Data-Alignment-内部数据修改\" data-toc-modified-id=\"Internal-Data-Alignment-内部数据修改-9.1\"><span class=\"toc-item-num\">9.1&nbsp;&nbsp;</span>Internal Data Alignment 内部数据修改</a></span></li><li><span><a href=\"#Arithmetic-Operations-with-Fill-Methods-填充方法的算术运算\" data-toc-modified-id=\"Arithmetic-Operations-with-Fill-Methods-填充方法的算术运算-9.2\"><span class=\"toc-item-num\">9.2&nbsp;&nbsp;</span>Arithmetic Operations with Fill Methods 填充方法的算术运算</a></span></li></ul></li><li><span><a href=\"#Learning-Link\" data-toc-modified-id=\"Learning-Link-10\"><span class=\"toc-item-num\">10&nbsp;&nbsp;</span>Learning Link</a></span></li></ul></div>"
   ]
  },
  {
   "cell_type": "markdown",
   "id": "8eec4e7f",
   "metadata": {
    "ExecuteTime": {
     "end_time": "2023-05-04T17:34:50.932707Z",
     "start_time": "2023-05-04T17:34:50.929415Z"
    }
   },
   "source": [
    "## Set-up"
   ]
  },
  {
   "cell_type": "code",
   "execution_count": 1,
   "id": "8b4c3482",
   "metadata": {
    "ExecuteTime": {
     "end_time": "2023-05-05T11:30:01.368877Z",
     "start_time": "2023-05-05T11:30:01.360613Z"
    }
   },
   "outputs": [],
   "source": [
    "from IPython.core.interactiveshell import InteractiveShell\n",
    "InteractiveShell.ast_node_interactivity = \"all\"  # 如果不需要，则修改为none即可。删除该段代码不起作用。"
   ]
  },
  {
   "cell_type": "markdown",
   "id": "0aaa8fea",
   "metadata": {},
   "source": [
    "## Intro"
   ]
  },
  {
   "cell_type": "markdown",
   "id": "926d4e90",
   "metadata": {},
   "source": [
    "The Pandas library is built on NumPy\n",
    "provides **data structures** and **data analysis** tools."
   ]
  },
  {
   "cell_type": "code",
   "execution_count": 2,
   "id": "6fd38f00",
   "metadata": {
    "ExecuteTime": {
     "end_time": "2023-05-05T11:30:05.333594Z",
     "start_time": "2023-05-05T11:30:04.872090Z"
    }
   },
   "outputs": [],
   "source": [
    "import pandas as pd"
   ]
  },
  {
   "cell_type": "markdown",
   "id": "ecc5eb36",
   "metadata": {
    "ExecuteTime": {
     "end_time": "2023-05-05T12:10:00.201234Z",
     "start_time": "2023-05-05T12:10:00.174642Z"
    }
   },
   "source": [
    "Pandas切片左闭右开"
   ]
  },
  {
   "cell_type": "markdown",
   "id": "00941c6c",
   "metadata": {},
   "source": [
    "---"
   ]
  },
  {
   "cell_type": "markdown",
   "id": "9a86f1ff",
   "metadata": {},
   "source": [
    "## Pandas Data Structures - 2 Types"
   ]
  },
  {
   "cell_type": "markdown",
   "id": "71c0428c",
   "metadata": {
    "ExecuteTime": {
     "end_time": "2023-05-05T12:14:23.833444Z",
     "start_time": "2023-05-05T12:14:23.821452Z"
    }
   },
   "source": [
    "Notice:\n",
    "当同时对s和df进行操作的时候:\n",
    "1. s会直接在原始的Series对象上进行更改，而不会创建新的对象 (Series是可变对象)\n",
    "2. 而df并不会修改原始数据，除非进行赋值操作，或者设置了参数`inplace=True`（非破坏操作)"
   ]
  },
  {
   "cell_type": "markdown",
   "id": "fcbb9e7a",
   "metadata": {},
   "source": [
    "### Series"
   ]
  },
  {
   "cell_type": "markdown",
   "id": "2eeadcf2",
   "metadata": {},
   "source": [
    "> 1. (my understanding: ordinary/normal data) )\n",
    "> 2. A **one-dimensional** labeled array\n",
    "> 3. capable of holding any data type "
   ]
  },
  {
   "cell_type": "code",
   "execution_count": 91,
   "id": "b79a9328",
   "metadata": {
    "ExecuteTime": {
     "end_time": "2023-05-05T19:18:58.804372Z",
     "start_time": "2023-05-05T19:18:58.787597Z"
    },
    "code_folding": []
   },
   "outputs": [
    {
     "name": "stdout",
     "output_type": "stream",
     "text": [
      "a    1\n",
      "b    2\n",
      "c    3\n",
      "d    4\n",
      "dtype: int64\n"
     ]
    }
   ],
   "source": [
    "s = pd.Series([1, 2, 3, 4],\n",
    "              index = ['a', 'b', 'c', 'd'])\n",
    "print(s)"
   ]
  },
  {
   "cell_type": "markdown",
   "id": "61a0a466",
   "metadata": {},
   "source": [
    "---"
   ]
  },
  {
   "cell_type": "markdown",
   "id": "db630ba0",
   "metadata": {},
   "source": [
    "### DataFrame"
   ]
  },
  {
   "cell_type": "markdown",
   "id": "2334e665",
   "metadata": {},
   "source": [
    "> 1. **two-dimensional** labeled data structure\n",
    "> 2. columns of different types\n",
    "> 3. 大多的DataFrame操作都会自动返回一个新的 DataFrame 对象"
   ]
  },
  {
   "cell_type": "code",
   "execution_count": 92,
   "id": "9597c931",
   "metadata": {
    "ExecuteTime": {
     "end_time": "2023-05-05T19:19:02.416428Z",
     "start_time": "2023-05-05T19:19:02.394539Z"
    },
    "code_folding": []
   },
   "outputs": [
    {
     "name": "stdout",
     "output_type": "stream",
     "text": [
      "{'Country': ['Belgium', 'India', 'Brazil'], 'Capital': ['Brussels', 'New Delhi', 'Brasília'], 'Population': [11190846, 1303171035, 207847528]}\n"
     ]
    },
    {
     "data": {
      "text/html": [
       "<div>\n",
       "<style scoped>\n",
       "    .dataframe tbody tr th:only-of-type {\n",
       "        vertical-align: middle;\n",
       "    }\n",
       "\n",
       "    .dataframe tbody tr th {\n",
       "        vertical-align: top;\n",
       "    }\n",
       "\n",
       "    .dataframe thead th {\n",
       "        text-align: right;\n",
       "    }\n",
       "</style>\n",
       "<table border=\"1\" class=\"dataframe\">\n",
       "  <thead>\n",
       "    <tr style=\"text-align: right;\">\n",
       "      <th></th>\n",
       "      <th>Country</th>\n",
       "      <th>Capital</th>\n",
       "      <th>Population</th>\n",
       "    </tr>\n",
       "  </thead>\n",
       "  <tbody>\n",
       "    <tr>\n",
       "      <th>0</th>\n",
       "      <td>Belgium</td>\n",
       "      <td>Brussels</td>\n",
       "      <td>11190846</td>\n",
       "    </tr>\n",
       "    <tr>\n",
       "      <th>1</th>\n",
       "      <td>India</td>\n",
       "      <td>New Delhi</td>\n",
       "      <td>1303171035</td>\n",
       "    </tr>\n",
       "    <tr>\n",
       "      <th>2</th>\n",
       "      <td>Brazil</td>\n",
       "      <td>Brasília</td>\n",
       "      <td>207847528</td>\n",
       "    </tr>\n",
       "  </tbody>\n",
       "</table>\n",
       "</div>"
      ],
      "text/plain": [
       "   Country    Capital  Population\n",
       "0  Belgium   Brussels    11190846\n",
       "1    India  New Delhi  1303171035\n",
       "2   Brazil   Brasília   207847528"
      ]
     },
     "execution_count": 92,
     "metadata": {},
     "output_type": "execute_result"
    }
   ],
   "source": [
    "# Series\n",
    "data = {\n",
    "    'Country': ['Belgium', 'India', 'Brazil'],\n",
    "    'Capital': ['Brussels', 'New Delhi', 'Brasília'],\n",
    "    'Population': [11190846, 1303171035, 207847528]\n",
    "    }\n",
    "\n",
    "print(data)\n",
    "\n",
    "# series -> DataFrame\n",
    "# index默认从0开始递增\n",
    "# 修改默认行索引：index=['foo', 'bar', 'baz']\n",
    "df = pd.DataFrame(data,\n",
    "                columns = ['Country', 'Capital', 'Population'])\n",
    "df # 原始的 DataFrame 对象\n",
    "\n",
    "# **注意**\n",
    "# 对df.__任何操作都不会修改它本身数据，除非进行了赋值\n",
    "# eg. df = df.drop(0)"
   ]
  },
  {
   "cell_type": "markdown",
   "id": "50d522cf",
   "metadata": {},
   "source": [
    "---"
   ]
  },
  {
   "cell_type": "markdown",
   "id": "286e70ad",
   "metadata": {
    "ExecuteTime": {
     "end_time": "2023-05-04T17:41:28.500119Z",
     "start_time": "2023-05-04T17:41:28.485706Z"
    }
   },
   "source": [
    "### Series VS DataFrame"
   ]
  },
  {
   "attachments": {
    "image.png": {
     "image/png": "[encoded data removed]"
    }
   },
   "cell_type": "markdown",
   "id": "02b35915",
   "metadata": {},
   "source": [
    "![image.png](attachment:image.png)"
   ]
  },
  {
   "cell_type": "markdown",
   "id": "5c2604f1",
   "metadata": {
    "ExecuteTime": {
     "end_time": "2023-05-04T18:09:36.122860Z",
     "start_time": "2023-05-04T18:09:36.119844Z"
    }
   },
   "source": [
    "## Dropping"
   ]
  },
  {
   "cell_type": "code",
   "execution_count": 94,
   "id": "80696a4f",
   "metadata": {
    "ExecuteTime": {
     "end_time": "2023-05-05T19:20:24.183947Z",
     "start_time": "2023-05-05T19:20:24.134690Z"
    }
   },
   "outputs": [
    {
     "data": {
      "text/plain": [
       "b    2\n",
       "d    4\n",
       "dtype: int64"
      ]
     },
     "execution_count": 94,
     "metadata": {},
     "output_type": "execute_result"
    },
    {
     "data": {
      "text/plain": [
       "a    1\n",
       "b    2\n",
       "c    3\n",
       "d    4\n",
       "dtype: int64"
      ]
     },
     "execution_count": 94,
     "metadata": {},
     "output_type": "execute_result"
    },
    {
     "data": {
      "text/html": [
       "<div>\n",
       "<style scoped>\n",
       "    .dataframe tbody tr th:only-of-type {\n",
       "        vertical-align: middle;\n",
       "    }\n",
       "\n",
       "    .dataframe tbody tr th {\n",
       "        vertical-align: top;\n",
       "    }\n",
       "\n",
       "    .dataframe thead th {\n",
       "        text-align: right;\n",
       "    }\n",
       "</style>\n",
       "<table border=\"1\" class=\"dataframe\">\n",
       "  <thead>\n",
       "    <tr style=\"text-align: right;\">\n",
       "      <th></th>\n",
       "      <th>Country</th>\n",
       "      <th>Capital</th>\n",
       "      <th>Population</th>\n",
       "    </tr>\n",
       "  </thead>\n",
       "  <tbody>\n",
       "    <tr>\n",
       "      <th>0</th>\n",
       "      <td>Belgium</td>\n",
       "      <td>Brussels</td>\n",
       "      <td>11190846</td>\n",
       "    </tr>\n",
       "    <tr>\n",
       "      <th>1</th>\n",
       "      <td>India</td>\n",
       "      <td>New Delhi</td>\n",
       "      <td>1303171035</td>\n",
       "    </tr>\n",
       "    <tr>\n",
       "      <th>2</th>\n",
       "      <td>Brazil</td>\n",
       "      <td>Brasília</td>\n",
       "      <td>207847528</td>\n",
       "    </tr>\n",
       "  </tbody>\n",
       "</table>\n",
       "</div>"
      ],
      "text/plain": [
       "   Country    Capital  Population\n",
       "0  Belgium   Brussels    11190846\n",
       "1    India  New Delhi  1303171035\n",
       "2   Brazil   Brasília   207847528"
      ]
     },
     "execution_count": 94,
     "metadata": {},
     "output_type": "execute_result"
    },
    {
     "data": {
      "text/html": [
       "<div>\n",
       "<style scoped>\n",
       "    .dataframe tbody tr th:only-of-type {\n",
       "        vertical-align: middle;\n",
       "    }\n",
       "\n",
       "    .dataframe tbody tr th {\n",
       "        vertical-align: top;\n",
       "    }\n",
       "\n",
       "    .dataframe thead th {\n",
       "        text-align: right;\n",
       "    }\n",
       "</style>\n",
       "<table border=\"1\" class=\"dataframe\">\n",
       "  <thead>\n",
       "    <tr style=\"text-align: right;\">\n",
       "      <th></th>\n",
       "      <th>Capital</th>\n",
       "      <th>Population</th>\n",
       "    </tr>\n",
       "  </thead>\n",
       "  <tbody>\n",
       "    <tr>\n",
       "      <th>0</th>\n",
       "      <td>Brussels</td>\n",
       "      <td>11190846</td>\n",
       "    </tr>\n",
       "    <tr>\n",
       "      <th>1</th>\n",
       "      <td>New Delhi</td>\n",
       "      <td>1303171035</td>\n",
       "    </tr>\n",
       "    <tr>\n",
       "      <th>2</th>\n",
       "      <td>Brasília</td>\n",
       "      <td>207847528</td>\n",
       "    </tr>\n",
       "  </tbody>\n",
       "</table>\n",
       "</div>"
      ],
      "text/plain": [
       "     Capital  Population\n",
       "0   Brussels    11190846\n",
       "1  New Delhi  1303171035\n",
       "2   Brasília   207847528"
      ]
     },
     "execution_count": 94,
     "metadata": {},
     "output_type": "execute_result"
    },
    {
     "data": {
      "text/html": [
       "<div>\n",
       "<style scoped>\n",
       "    .dataframe tbody tr th:only-of-type {\n",
       "        vertical-align: middle;\n",
       "    }\n",
       "\n",
       "    .dataframe tbody tr th {\n",
       "        vertical-align: top;\n",
       "    }\n",
       "\n",
       "    .dataframe thead th {\n",
       "        text-align: right;\n",
       "    }\n",
       "</style>\n",
       "<table border=\"1\" class=\"dataframe\">\n",
       "  <thead>\n",
       "    <tr style=\"text-align: right;\">\n",
       "      <th></th>\n",
       "      <th>Country</th>\n",
       "      <th>Capital</th>\n",
       "      <th>Population</th>\n",
       "    </tr>\n",
       "  </thead>\n",
       "  <tbody>\n",
       "    <tr>\n",
       "      <th>0</th>\n",
       "      <td>Belgium</td>\n",
       "      <td>Brussels</td>\n",
       "      <td>11190846</td>\n",
       "    </tr>\n",
       "    <tr>\n",
       "      <th>1</th>\n",
       "      <td>India</td>\n",
       "      <td>New Delhi</td>\n",
       "      <td>1303171035</td>\n",
       "    </tr>\n",
       "    <tr>\n",
       "      <th>2</th>\n",
       "      <td>Brazil</td>\n",
       "      <td>Brasília</td>\n",
       "      <td>207847528</td>\n",
       "    </tr>\n",
       "  </tbody>\n",
       "</table>\n",
       "</div>"
      ],
      "text/plain": [
       "   Country    Capital  Population\n",
       "0  Belgium   Brussels    11190846\n",
       "1    India  New Delhi  1303171035\n",
       "2   Brazil   Brasília   207847528"
      ]
     },
     "execution_count": 94,
     "metadata": {},
     "output_type": "execute_result"
    },
    {
     "data": {
      "text/html": [
       "<div>\n",
       "<style scoped>\n",
       "    .dataframe tbody tr th:only-of-type {\n",
       "        vertical-align: middle;\n",
       "    }\n",
       "\n",
       "    .dataframe tbody tr th {\n",
       "        vertical-align: top;\n",
       "    }\n",
       "\n",
       "    .dataframe thead th {\n",
       "        text-align: right;\n",
       "    }\n",
       "</style>\n",
       "<table border=\"1\" class=\"dataframe\">\n",
       "  <thead>\n",
       "    <tr style=\"text-align: right;\">\n",
       "      <th></th>\n",
       "      <th>Country</th>\n",
       "      <th>Capital</th>\n",
       "      <th>Population</th>\n",
       "    </tr>\n",
       "  </thead>\n",
       "  <tbody>\n",
       "    <tr>\n",
       "      <th>1</th>\n",
       "      <td>India</td>\n",
       "      <td>New Delhi</td>\n",
       "      <td>1303171035</td>\n",
       "    </tr>\n",
       "    <tr>\n",
       "      <th>2</th>\n",
       "      <td>Brazil</td>\n",
       "      <td>Brasília</td>\n",
       "      <td>207847528</td>\n",
       "    </tr>\n",
       "  </tbody>\n",
       "</table>\n",
       "</div>"
      ],
      "text/plain": [
       "  Country    Capital  Population\n",
       "1   India  New Delhi  1303171035\n",
       "2  Brazil   Brasília   207847528"
      ]
     },
     "execution_count": 94,
     "metadata": {},
     "output_type": "execute_result"
    },
    {
     "data": {
      "text/html": [
       "<div>\n",
       "<style scoped>\n",
       "    .dataframe tbody tr th:only-of-type {\n",
       "        vertical-align: middle;\n",
       "    }\n",
       "\n",
       "    .dataframe tbody tr th {\n",
       "        vertical-align: top;\n",
       "    }\n",
       "\n",
       "    .dataframe thead th {\n",
       "        text-align: right;\n",
       "    }\n",
       "</style>\n",
       "<table border=\"1\" class=\"dataframe\">\n",
       "  <thead>\n",
       "    <tr style=\"text-align: right;\">\n",
       "      <th></th>\n",
       "      <th>Country</th>\n",
       "      <th>Capital</th>\n",
       "      <th>Population</th>\n",
       "    </tr>\n",
       "  </thead>\n",
       "  <tbody>\n",
       "    <tr>\n",
       "      <th>0</th>\n",
       "      <td>Belgium</td>\n",
       "      <td>Brussels</td>\n",
       "      <td>11190846</td>\n",
       "    </tr>\n",
       "    <tr>\n",
       "      <th>1</th>\n",
       "      <td>India</td>\n",
       "      <td>New Delhi</td>\n",
       "      <td>1303171035</td>\n",
       "    </tr>\n",
       "    <tr>\n",
       "      <th>2</th>\n",
       "      <td>Brazil</td>\n",
       "      <td>Brasília</td>\n",
       "      <td>207847528</td>\n",
       "    </tr>\n",
       "  </tbody>\n",
       "</table>\n",
       "</div>"
      ],
      "text/plain": [
       "   Country    Capital  Population\n",
       "0  Belgium   Brussels    11190846\n",
       "1    India  New Delhi  1303171035\n",
       "2   Brazil   Brasília   207847528"
      ]
     },
     "execution_count": 94,
     "metadata": {},
     "output_type": "execute_result"
    }
   ],
   "source": [
    "# drop rows from series: index = 'a' and 'c' \n",
    "# 删除指定行\n",
    "s.drop( ['a', 'c'] ) \n",
    "s # 返回一个新的 SArray 对象\n",
    "\n",
    "df\n",
    "\n",
    "# drop columns\n",
    "# 删除指定列 axis=1删除列，axis=0删除行\n",
    "df.drop('Country', axis=1)\n",
    "df\n",
    "\n",
    "# 删除第一行数据, index=0 (不是标题行)\n",
    "df.drop(0)\n",
    "df\n",
    "\n",
    "# Notice\n",
    "# 看以下输出，数据本身并没有改变\n",
    "# drop方法会自动返回一个 经过删除操作的 Series/DataFrame\n",
    "# 如果想改变原有数据，参数中添加：inplace=True"
   ]
  },
  {
   "cell_type": "markdown",
   "id": "10823d5d",
   "metadata": {},
   "source": [
    "## Sort & Rank"
   ]
  },
  {
   "cell_type": "code",
   "execution_count": 90,
   "id": "19ee278d",
   "metadata": {
    "ExecuteTime": {
     "end_time": "2023-05-04T19:44:42.135307Z",
     "start_time": "2023-05-04T19:44:42.110708Z"
    }
   },
   "outputs": [
    {
     "data": {
      "text/html": [
       "<div>\n",
       "<style scoped>\n",
       "    .dataframe tbody tr th:only-of-type {\n",
       "        vertical-align: middle;\n",
       "    }\n",
       "\n",
       "    .dataframe tbody tr th {\n",
       "        vertical-align: top;\n",
       "    }\n",
       "\n",
       "    .dataframe thead th {\n",
       "        text-align: right;\n",
       "    }\n",
       "</style>\n",
       "<table border=\"1\" class=\"dataframe\">\n",
       "  <thead>\n",
       "    <tr style=\"text-align: right;\">\n",
       "      <th></th>\n",
       "      <th>Country</th>\n",
       "      <th>Capital</th>\n",
       "      <th>Population</th>\n",
       "    </tr>\n",
       "  </thead>\n",
       "  <tbody>\n",
       "    <tr>\n",
       "      <th>0</th>\n",
       "      <td>Belgium</td>\n",
       "      <td>Brussels</td>\n",
       "      <td>11190846</td>\n",
       "    </tr>\n",
       "    <tr>\n",
       "      <th>1</th>\n",
       "      <td>India</td>\n",
       "      <td>New Delhi</td>\n",
       "      <td>1303171035</td>\n",
       "    </tr>\n",
       "    <tr>\n",
       "      <th>2</th>\n",
       "      <td>Brazil</td>\n",
       "      <td>Brasília</td>\n",
       "      <td>207847528</td>\n",
       "    </tr>\n",
       "  </tbody>\n",
       "</table>\n",
       "</div>"
      ],
      "text/plain": [
       "   Country    Capital  Population\n",
       "0  Belgium   Brussels    11190846\n",
       "1    India  New Delhi  1303171035\n",
       "2   Brazil   Brasília   207847528"
      ]
     },
     "execution_count": 90,
     "metadata": {},
     "output_type": "execute_result"
    },
    {
     "data": {
      "text/html": [
       "<div>\n",
       "<style scoped>\n",
       "    .dataframe tbody tr th:only-of-type {\n",
       "        vertical-align: middle;\n",
       "    }\n",
       "\n",
       "    .dataframe tbody tr th {\n",
       "        vertical-align: top;\n",
       "    }\n",
       "\n",
       "    .dataframe thead th {\n",
       "        text-align: right;\n",
       "    }\n",
       "</style>\n",
       "<table border=\"1\" class=\"dataframe\">\n",
       "  <thead>\n",
       "    <tr style=\"text-align: right;\">\n",
       "      <th></th>\n",
       "      <th>Country</th>\n",
       "      <th>Capital</th>\n",
       "      <th>Population</th>\n",
       "    </tr>\n",
       "  </thead>\n",
       "  <tbody>\n",
       "    <tr>\n",
       "      <th>0</th>\n",
       "      <td>Belgium</td>\n",
       "      <td>Brussels</td>\n",
       "      <td>11190846</td>\n",
       "    </tr>\n",
       "    <tr>\n",
       "      <th>1</th>\n",
       "      <td>India</td>\n",
       "      <td>New Delhi</td>\n",
       "      <td>1303171035</td>\n",
       "    </tr>\n",
       "    <tr>\n",
       "      <th>2</th>\n",
       "      <td>Brazil</td>\n",
       "      <td>Brasília</td>\n",
       "      <td>207847528</td>\n",
       "    </tr>\n",
       "  </tbody>\n",
       "</table>\n",
       "</div>"
      ],
      "text/plain": [
       "   Country    Capital  Population\n",
       "0  Belgium   Brussels    11190846\n",
       "1    India  New Delhi  1303171035\n",
       "2   Brazil   Brasília   207847528"
      ]
     },
     "execution_count": 90,
     "metadata": {},
     "output_type": "execute_result"
    },
    {
     "data": {
      "text/html": [
       "<div>\n",
       "<style scoped>\n",
       "    .dataframe tbody tr th:only-of-type {\n",
       "        vertical-align: middle;\n",
       "    }\n",
       "\n",
       "    .dataframe tbody tr th {\n",
       "        vertical-align: top;\n",
       "    }\n",
       "\n",
       "    .dataframe thead th {\n",
       "        text-align: right;\n",
       "    }\n",
       "</style>\n",
       "<table border=\"1\" class=\"dataframe\">\n",
       "  <thead>\n",
       "    <tr style=\"text-align: right;\">\n",
       "      <th></th>\n",
       "      <th>Country</th>\n",
       "      <th>Capital</th>\n",
       "      <th>Population</th>\n",
       "    </tr>\n",
       "  </thead>\n",
       "  <tbody>\n",
       "    <tr>\n",
       "      <th>0</th>\n",
       "      <td>Belgium</td>\n",
       "      <td>Brussels</td>\n",
       "      <td>11190846</td>\n",
       "    </tr>\n",
       "    <tr>\n",
       "      <th>2</th>\n",
       "      <td>Brazil</td>\n",
       "      <td>Brasília</td>\n",
       "      <td>207847528</td>\n",
       "    </tr>\n",
       "    <tr>\n",
       "      <th>1</th>\n",
       "      <td>India</td>\n",
       "      <td>New Delhi</td>\n",
       "      <td>1303171035</td>\n",
       "    </tr>\n",
       "  </tbody>\n",
       "</table>\n",
       "</div>"
      ],
      "text/plain": [
       "   Country    Capital  Population\n",
       "0  Belgium   Brussels    11190846\n",
       "2   Brazil   Brasília   207847528\n",
       "1    India  New Delhi  1303171035"
      ]
     },
     "execution_count": 90,
     "metadata": {},
     "output_type": "execute_result"
    }
   ],
   "source": [
    "df\n",
    "df.sort_index() # 按照index排序，index默认从0开始递增，所以这里看不出变化\n",
    "df.sort_values( by='Country' ) # sory by 'values'"
   ]
  },
  {
   "cell_type": "code",
   "execution_count": 48,
   "id": "d3d5b011",
   "metadata": {
    "ExecuteTime": {
     "end_time": "2023-05-04T18:37:59.725985Z",
     "start_time": "2023-05-04T18:37:59.705229Z"
    }
   },
   "outputs": [
    {
     "data": {
      "text/html": [
       "<div>\n",
       "<style scoped>\n",
       "    .dataframe tbody tr th:only-of-type {\n",
       "        vertical-align: middle;\n",
       "    }\n",
       "\n",
       "    .dataframe tbody tr th {\n",
       "        vertical-align: top;\n",
       "    }\n",
       "\n",
       "    .dataframe thead th {\n",
       "        text-align: right;\n",
       "    }\n",
       "</style>\n",
       "<table border=\"1\" class=\"dataframe\">\n",
       "  <thead>\n",
       "    <tr style=\"text-align: right;\">\n",
       "      <th></th>\n",
       "      <th>Country</th>\n",
       "      <th>Capital</th>\n",
       "      <th>Population</th>\n",
       "    </tr>\n",
       "  </thead>\n",
       "  <tbody>\n",
       "    <tr>\n",
       "      <th>0</th>\n",
       "      <td>Belgium</td>\n",
       "      <td>Brussels</td>\n",
       "      <td>11190846</td>\n",
       "    </tr>\n",
       "    <tr>\n",
       "      <th>1</th>\n",
       "      <td>India</td>\n",
       "      <td>New Delhi</td>\n",
       "      <td>1303171035</td>\n",
       "    </tr>\n",
       "    <tr>\n",
       "      <th>2</th>\n",
       "      <td>Brazil</td>\n",
       "      <td>Brasília</td>\n",
       "      <td>207847528</td>\n",
       "    </tr>\n",
       "  </tbody>\n",
       "</table>\n",
       "</div>"
      ],
      "text/plain": [
       "   Country    Capital  Population\n",
       "0  Belgium   Brussels    11190846\n",
       "1    India  New Delhi  1303171035\n",
       "2   Brazil   Brasília   207847528"
      ]
     },
     "execution_count": 48,
     "metadata": {},
     "output_type": "execute_result"
    },
    {
     "data": {
      "text/html": [
       "<div>\n",
       "<style scoped>\n",
       "    .dataframe tbody tr th:only-of-type {\n",
       "        vertical-align: middle;\n",
       "    }\n",
       "\n",
       "    .dataframe tbody tr th {\n",
       "        vertical-align: top;\n",
       "    }\n",
       "\n",
       "    .dataframe thead th {\n",
       "        text-align: right;\n",
       "    }\n",
       "</style>\n",
       "<table border=\"1\" class=\"dataframe\">\n",
       "  <thead>\n",
       "    <tr style=\"text-align: right;\">\n",
       "      <th></th>\n",
       "      <th>Country</th>\n",
       "      <th>Capital</th>\n",
       "      <th>Population</th>\n",
       "    </tr>\n",
       "  </thead>\n",
       "  <tbody>\n",
       "    <tr>\n",
       "      <th>0</th>\n",
       "      <td>1.0</td>\n",
       "      <td>2.0</td>\n",
       "      <td>1.0</td>\n",
       "    </tr>\n",
       "    <tr>\n",
       "      <th>1</th>\n",
       "      <td>3.0</td>\n",
       "      <td>3.0</td>\n",
       "      <td>3.0</td>\n",
       "    </tr>\n",
       "    <tr>\n",
       "      <th>2</th>\n",
       "      <td>2.0</td>\n",
       "      <td>1.0</td>\n",
       "      <td>2.0</td>\n",
       "    </tr>\n",
       "  </tbody>\n",
       "</table>\n",
       "</div>"
      ],
      "text/plain": [
       "   Country  Capital  Population\n",
       "0      1.0      2.0         1.0\n",
       "1      3.0      3.0         3.0\n",
       "2      2.0      1.0         2.0"
      ]
     },
     "execution_count": 48,
     "metadata": {},
     "output_type": "execute_result"
    }
   ],
   "source": [
    "df\n",
    "# 给每个元素在该列进行排序\n",
    "df.rank() # assign ranks to entires"
   ]
  },
  {
   "cell_type": "markdown",
   "id": "d6404358",
   "metadata": {},
   "source": [
    "## I/O"
   ]
  },
  {
   "cell_type": "markdown",
   "id": "49b20cfa",
   "metadata": {
    "ExecuteTime": {
     "end_time": "2023-05-04T19:07:06.832125Z",
     "start_time": "2023-05-04T19:07:06.820018Z"
    }
   },
   "source": [
    "**Notice:**\n",
    "1. 对于CSV和Excel来说：使用pandas读取到的文件为DataFrame\n",
    "2. 对于SQL来说：在Pandas的pd.read_sql()函数中，结果可以是不同的数据结构，取决于查询和它的执行方式. eg. 一个单一的值（比如计数），一组值（比如名字的列表），一个类似表的结构（比如SELECT语句的结果集）。"
   ]
  },
  {
   "cell_type": "markdown",
   "id": "ca0ee86c",
   "metadata": {},
   "source": [
    "### CSV"
   ]
  },
  {
   "cell_type": "markdown",
   "id": "c709a61d",
   "metadata": {
    "ExecuteTime": {
     "end_time": "2023-05-04T18:55:46.836236Z",
     "start_time": "2023-05-04T18:55:46.823129Z"
    }
   },
   "source": [
    "Aim:\n",
    "读取1.csv文件，经过DataFrame处理后，以2.csv的形式输出"
   ]
  },
  {
   "cell_type": "code",
   "execution_count": 60,
   "id": "a31d42a7",
   "metadata": {
    "ExecuteTime": {
     "end_time": "2023-05-04T19:03:46.166051Z",
     "start_time": "2023-05-04T19:03:46.138004Z"
    }
   },
   "outputs": [
    {
     "data": {
      "text/html": [
       "<div>\n",
       "<style scoped>\n",
       "    .dataframe tbody tr th:only-of-type {\n",
       "        vertical-align: middle;\n",
       "    }\n",
       "\n",
       "    .dataframe tbody tr th {\n",
       "        vertical-align: top;\n",
       "    }\n",
       "\n",
       "    .dataframe thead th {\n",
       "        text-align: right;\n",
       "    }\n",
       "</style>\n",
       "<table border=\"1\" class=\"dataframe\">\n",
       "  <thead>\n",
       "    <tr style=\"text-align: right;\">\n",
       "      <th></th>\n",
       "      <th>0</th>\n",
       "      <th>1</th>\n",
       "      <th>2</th>\n",
       "      <th>3</th>\n",
       "      <th>4</th>\n",
       "      <th>5</th>\n",
       "      <th>6</th>\n",
       "      <th>7</th>\n",
       "      <th>8</th>\n",
       "      <th>9</th>\n",
       "      <th>...</th>\n",
       "      <th>26</th>\n",
       "      <th>27</th>\n",
       "      <th>28</th>\n",
       "      <th>29</th>\n",
       "      <th>30</th>\n",
       "      <th>31</th>\n",
       "      <th>32</th>\n",
       "      <th>33</th>\n",
       "      <th>34</th>\n",
       "      <th>35</th>\n",
       "    </tr>\n",
       "  </thead>\n",
       "  <tbody>\n",
       "    <tr>\n",
       "      <th>0</th>\n",
       "      <td>respondent_id</td>\n",
       "      <td>h1n1_concern</td>\n",
       "      <td>h1n1_knowledge</td>\n",
       "      <td>behavioral_antiviral_meds</td>\n",
       "      <td>behavioral_avoidance</td>\n",
       "      <td>behavioral_face_mask</td>\n",
       "      <td>behavioral_wash_hands</td>\n",
       "      <td>behavioral_large_gatherings</td>\n",
       "      <td>behavioral_outside_home</td>\n",
       "      <td>behavioral_touch_face</td>\n",
       "      <td>...</td>\n",
       "      <td>income_poverty</td>\n",
       "      <td>marital_status</td>\n",
       "      <td>rent_or_own</td>\n",
       "      <td>employment_status</td>\n",
       "      <td>hhs_geo_region</td>\n",
       "      <td>census_msa</td>\n",
       "      <td>household_adults</td>\n",
       "      <td>household_children</td>\n",
       "      <td>employment_industry</td>\n",
       "      <td>employment_occupation</td>\n",
       "    </tr>\n",
       "    <tr>\n",
       "      <th>1</th>\n",
       "      <td>26707</td>\n",
       "      <td>2</td>\n",
       "      <td>2</td>\n",
       "      <td>0</td>\n",
       "      <td>1</td>\n",
       "      <td>0</td>\n",
       "      <td>1</td>\n",
       "      <td>1</td>\n",
       "      <td>0</td>\n",
       "      <td>1</td>\n",
       "      <td>...</td>\n",
       "      <td>&gt; $75,000</td>\n",
       "      <td>Not Married</td>\n",
       "      <td>Rent</td>\n",
       "      <td>Employed</td>\n",
       "      <td>mlyzmhmf</td>\n",
       "      <td>MSA, Not Principle  City</td>\n",
       "      <td>1</td>\n",
       "      <td>0</td>\n",
       "      <td>atmlpfrs</td>\n",
       "      <td>hfxkjkmi</td>\n",
       "    </tr>\n",
       "    <tr>\n",
       "      <th>2</th>\n",
       "      <td>26708</td>\n",
       "      <td>1</td>\n",
       "      <td>1</td>\n",
       "      <td>0</td>\n",
       "      <td>0</td>\n",
       "      <td>0</td>\n",
       "      <td>0</td>\n",
       "      <td>0</td>\n",
       "      <td>0</td>\n",
       "      <td>0</td>\n",
       "      <td>...</td>\n",
       "      <td>Below Poverty</td>\n",
       "      <td>Not Married</td>\n",
       "      <td>Rent</td>\n",
       "      <td>Employed</td>\n",
       "      <td>bhuqouqj</td>\n",
       "      <td>Non-MSA</td>\n",
       "      <td>3</td>\n",
       "      <td>0</td>\n",
       "      <td>atmlpfrs</td>\n",
       "      <td>xqwwgdyp</td>\n",
       "    </tr>\n",
       "  </tbody>\n",
       "</table>\n",
       "<p>3 rows × 36 columns</p>\n",
       "</div>"
      ],
      "text/plain": [
       "              0             1               2                          3   \\\n",
       "0  respondent_id  h1n1_concern  h1n1_knowledge  behavioral_antiviral_meds   \n",
       "1          26707             2               2                          0   \n",
       "2          26708             1               1                          0   \n",
       "\n",
       "                     4                     5                      6   \\\n",
       "0  behavioral_avoidance  behavioral_face_mask  behavioral_wash_hands   \n",
       "1                     1                     0                      1   \n",
       "2                     0                     0                      0   \n",
       "\n",
       "                            7                        8   \\\n",
       "0  behavioral_large_gatherings  behavioral_outside_home   \n",
       "1                            1                        0   \n",
       "2                            0                        0   \n",
       "\n",
       "                      9   ...              26              27           28  \\\n",
       "0  behavioral_touch_face  ...  income_poverty  marital_status  rent_or_own   \n",
       "1                      1  ...       > $75,000     Not Married         Rent   \n",
       "2                      0  ...   Below Poverty     Not Married         Rent   \n",
       "\n",
       "                  29              30                        31  \\\n",
       "0  employment_status  hhs_geo_region                census_msa   \n",
       "1           Employed        mlyzmhmf  MSA, Not Principle  City   \n",
       "2           Employed        bhuqouqj                   Non-MSA   \n",
       "\n",
       "                 32                  33                   34  \\\n",
       "0  household_adults  household_children  employment_industry   \n",
       "1                 1                   0             atmlpfrs   \n",
       "2                 3                   0             atmlpfrs   \n",
       "\n",
       "                      35  \n",
       "0  employment_occupation  \n",
       "1               hfxkjkmi  \n",
       "2               xqwwgdyp  \n",
       "\n",
       "[3 rows x 36 columns]"
      ]
     },
     "execution_count": 60,
     "metadata": {},
     "output_type": "execute_result"
    }
   ],
   "source": [
    "# Read\n",
    "\n",
    "# nrows = number of rows\n",
    "\n",
    "# 用pandas读取csv -> 存入DataFrame中\n",
    "# 因为pd.read_csv()方法产生的数据结构是一个DataFrame\n",
    "\n",
    "# header=0或者None: 文件第一行作为标题行\n",
    "\n",
    "df = pd.read_csv('1.csv', header = None, nrows = 3)\n",
    "\n",
    "df\n",
    "# Write\n",
    "# 将DataFrame写入CSV文件中\n",
    "df.to_csv('2.csv')"
   ]
  },
  {
   "cell_type": "markdown",
   "id": "43f02129",
   "metadata": {},
   "source": [
    "### Excel"
   ]
  },
  {
   "cell_type": "markdown",
   "id": "d9b9f06a",
   "metadata": {
    "ExecuteTime": {
     "end_time": "2023-05-04T19:15:41.989471Z",
     "start_time": "2023-05-04T19:15:41.978308Z"
    }
   },
   "source": [
    "1. 如果一个xlsx文件 - 只有一个sheet"
   ]
  },
  {
   "cell_type": "code",
   "execution_count": null,
   "id": "4ca99503",
   "metadata": {},
   "outputs": [],
   "source": [
    "# Read\n",
    "df = pd.read_excel('3.xlsx')\n",
    "\n",
    "# Write\n",
    "df.to_excel('4.xlsx', sheet_name = 'new')"
   ]
  },
  {
   "cell_type": "markdown",
   "id": "5bc6fec3",
   "metadata": {},
   "source": [
    "2. 如果一个xlsx文件 - 有多个sheet"
   ]
  },
  {
   "cell_type": "code",
   "execution_count": null,
   "id": "e4667abd",
   "metadata": {},
   "outputs": [],
   "source": [
    "# 从一个excel中 - 读取所有sheet\n",
    "sheets = pd.ExcelFile('5.xls')\n",
    "\n",
    "# Read\n",
    "df1 = pd.read_excel(sheets, 'sheet_1')\n",
    "df2 = pd.read_excel(sheets, 'sheet_2')\n",
    "\n",
    "# Write\n",
    "merged_df = pd.concat([df1, df2], axis=0) # Merge the dataframes\n",
    "merged_df.to_excel('merged_file.xlsx', index=False) # Write to new xlsx file"
   ]
  },
  {
   "cell_type": "markdown",
   "id": "1b702fce",
   "metadata": {},
   "source": [
    "### SQL Query/Database Table"
   ]
  },
  {
   "cell_type": "markdown",
   "id": "fbf4db74",
   "metadata": {},
   "source": [
    "存在问题，需要不断安装sqlalchemy，可能是虚拟环境的问题\n",
    "jupyter kernelspec list\n",
    "Available kernels:\n",
    "  pycharm-616d70e3    /Users/huang/Library/Jupyter/kernels/pycharm-616d70e3\n",
    "  python3             /Users/huang/opt/anaconda3/envs/WebAppFlask3_9_MachineLearning/share/jupyter/kernels/python3\n",
    "  \n",
    "Databricks也无法运行"
   ]
  },
  {
   "cell_type": "markdown",
   "id": "0dd6c1b0",
   "metadata": {
    "ExecuteTime": {
     "start_time": "2023-05-04T23:19:30.430Z"
    }
   },
   "source": [
    "官方文档：https://pandas.pydata.org/docs/reference/api/pandas.DataFrame.to_sql.html"
   ]
  },
  {
   "attachments": {
    "image.png": {
     "image/png": "[encoded data removed]"
    }
   },
   "cell_type": "markdown",
   "id": "816d9b4b",
   "metadata": {},
   "source": [
    "![image.png](attachment:image.png)"
   ]
  },
  {
   "cell_type": "code",
   "execution_count": null,
   "id": "d3225497",
   "metadata": {
    "ExecuteTime": {
     "start_time": "2023-05-04T23:12:26.061Z"
    },
    "code_folding": []
   },
   "outputs": [
    {
     "name": "stdout",
     "output_type": "stream",
     "text": [
      "Collecting package metadata (current_repodata.json): done\n",
      "Solving environment: done\n",
      "\n",
      "## Package Plan ##\n",
      "\n",
      "  environment location: /Users/huang/opt/anaconda3\n",
      "\n",
      "  added / updated specs:\n",
      "    - sqlalchemy\n",
      "\n",
      "\n",
      "The following packages will be downloaded:\n",
      "\n",
      "    package                    |            build\n",
      "    ---------------------------|-----------------\n",
      "    boltons-23.0.0             |   py39hecd8cb5_0         423 KB\n",
      "    conda-23.3.1               |   py39hecd8cb5_0         962 KB\n",
      "    jsonpatch-1.32             |     pyhd3eb1b0_0          15 KB\n",
      "    jsonpointer-2.1            |     pyhd3eb1b0_0           9 KB\n",
      "    ------------------------------------------------------------\n",
      "                                           Total:         1.4 MB\n",
      "\n",
      "The following NEW packages will be INSTALLED:\n",
      "\n",
      "  boltons            pkgs/main/osx-64::boltons-23.0.0-py39hecd8cb5_0 \n",
      "  jsonpatch          pkgs/main/noarch::jsonpatch-1.32-pyhd3eb1b0_0 \n",
      "  jsonpointer        pkgs/main/noarch::jsonpointer-2.1-pyhd3eb1b0_0 \n",
      "\n",
      "The following packages will be UPDATED:\n",
      "\n",
      "  conda                               23.1.0-py39hecd8cb5_0 --> 23.3.1-py39hecd8cb5_0 \n",
      "\n",
      "\n",
      "Proceed ([y]/n)? "
     ]
    }
   ],
   "source": [
    "# !pip install sqlalchemy\n",
    "!conda install sqlalchemy\n",
    "\n",
    "# >>> from sqlalchemy import create_engine\n",
    "\n",
    "# >>> engine = create_engine( )\n",
    "\n",
    "# >>> pd.read_sql( , engine)\n",
    "\n",
    "# >>> pd.read_sql_table( , engine)\n",
    "\n",
    "# >>> pd.read_sql_query( , engine)\n",
    "# read_sql() is a convenience wrapper around read_sql_table() andread_sql_query()\n",
    "# >>> df.to_sql( , en 'myDf' gine)"
   ]
  },
  {
   "cell_type": "markdown",
   "id": "26bb3505",
   "metadata": {},
   "source": [
    "## Selection"
   ]
  },
  {
   "cell_type": "markdown",
   "id": "8b4e34c0",
   "metadata": {},
   "source": [
    "### Getting"
   ]
  },
  {
   "cell_type": "code",
   "execution_count": 95,
   "id": "ad5c839c",
   "metadata": {
    "ExecuteTime": {
     "end_time": "2023-05-05T19:20:33.852445Z",
     "start_time": "2023-05-05T19:20:33.840706Z"
    }
   },
   "outputs": [
    {
     "name": "stdout",
     "output_type": "stream",
     "text": [
      "a    1\n",
      "b    2\n",
      "c    3\n",
      "d    4\n",
      "dtype: int64\n"
     ]
    },
    {
     "data": {
      "text/plain": [
       "2"
      ]
     },
     "execution_count": 95,
     "metadata": {},
     "output_type": "execute_result"
    }
   ],
   "source": [
    "print(s)\n",
    "s['b']"
   ]
  },
  {
   "cell_type": "code",
   "execution_count": 22,
   "id": "e8757121",
   "metadata": {
    "ExecuteTime": {
     "end_time": "2023-05-04T23:36:57.779781Z",
     "start_time": "2023-05-04T23:36:57.760125Z"
    }
   },
   "outputs": [
    {
     "data": {
      "text/html": [
       "<div>\n",
       "<style scoped>\n",
       "    .dataframe tbody tr th:only-of-type {\n",
       "        vertical-align: middle;\n",
       "    }\n",
       "\n",
       "    .dataframe tbody tr th {\n",
       "        vertical-align: top;\n",
       "    }\n",
       "\n",
       "    .dataframe thead th {\n",
       "        text-align: right;\n",
       "    }\n",
       "</style>\n",
       "<table border=\"1\" class=\"dataframe\">\n",
       "  <thead>\n",
       "    <tr style=\"text-align: right;\">\n",
       "      <th></th>\n",
       "      <th>Country</th>\n",
       "      <th>Capital</th>\n",
       "      <th>Population</th>\n",
       "    </tr>\n",
       "  </thead>\n",
       "  <tbody>\n",
       "    <tr>\n",
       "      <th>0</th>\n",
       "      <td>Belgium</td>\n",
       "      <td>Brussels</td>\n",
       "      <td>11190846</td>\n",
       "    </tr>\n",
       "    <tr>\n",
       "      <th>1</th>\n",
       "      <td>India</td>\n",
       "      <td>New Delhi</td>\n",
       "      <td>1303171035</td>\n",
       "    </tr>\n",
       "    <tr>\n",
       "      <th>2</th>\n",
       "      <td>Brazil</td>\n",
       "      <td>Brasília</td>\n",
       "      <td>207847528</td>\n",
       "    </tr>\n",
       "  </tbody>\n",
       "</table>\n",
       "</div>"
      ],
      "text/plain": [
       "   Country    Capital  Population\n",
       "0  Belgium   Brussels    11190846\n",
       "1    India  New Delhi  1303171035\n",
       "2   Brazil   Brasília   207847528"
      ]
     },
     "execution_count": 22,
     "metadata": {},
     "output_type": "execute_result"
    },
    {
     "data": {
      "text/html": [
       "<div>\n",
       "<style scoped>\n",
       "    .dataframe tbody tr th:only-of-type {\n",
       "        vertical-align: middle;\n",
       "    }\n",
       "\n",
       "    .dataframe tbody tr th {\n",
       "        vertical-align: top;\n",
       "    }\n",
       "\n",
       "    .dataframe thead th {\n",
       "        text-align: right;\n",
       "    }\n",
       "</style>\n",
       "<table border=\"1\" class=\"dataframe\">\n",
       "  <thead>\n",
       "    <tr style=\"text-align: right;\">\n",
       "      <th></th>\n",
       "      <th>Country</th>\n",
       "      <th>Capital</th>\n",
       "      <th>Population</th>\n",
       "    </tr>\n",
       "  </thead>\n",
       "  <tbody>\n",
       "    <tr>\n",
       "      <th>1</th>\n",
       "      <td>India</td>\n",
       "      <td>New Delhi</td>\n",
       "      <td>1303171035</td>\n",
       "    </tr>\n",
       "    <tr>\n",
       "      <th>2</th>\n",
       "      <td>Brazil</td>\n",
       "      <td>Brasília</td>\n",
       "      <td>207847528</td>\n",
       "    </tr>\n",
       "  </tbody>\n",
       "</table>\n",
       "</div>"
      ],
      "text/plain": [
       "  Country    Capital  Population\n",
       "1   India  New Delhi  1303171035\n",
       "2  Brazil   Brasília   207847528"
      ]
     },
     "execution_count": 22,
     "metadata": {},
     "output_type": "execute_result"
    }
   ],
   "source": [
    "df\n",
    "df[1:] # get subset"
   ]
  },
  {
   "cell_type": "markdown",
   "id": "d61afdec",
   "metadata": {},
   "source": [
    "### Selecting, Boolean Indexing & Setting"
   ]
  },
  {
   "cell_type": "code",
   "execution_count": 18,
   "id": "9acbd1cf",
   "metadata": {
    "ExecuteTime": {
     "end_time": "2023-05-05T11:51:19.363013Z",
     "start_time": "2023-05-05T11:51:19.348128Z"
    }
   },
   "outputs": [
    {
     "data": {
      "text/html": [
       "<div>\n",
       "<style scoped>\n",
       "    .dataframe tbody tr th:only-of-type {\n",
       "        vertical-align: middle;\n",
       "    }\n",
       "\n",
       "    .dataframe tbody tr th {\n",
       "        vertical-align: top;\n",
       "    }\n",
       "\n",
       "    .dataframe thead th {\n",
       "        text-align: right;\n",
       "    }\n",
       "</style>\n",
       "<table border=\"1\" class=\"dataframe\">\n",
       "  <thead>\n",
       "    <tr style=\"text-align: right;\">\n",
       "      <th></th>\n",
       "      <th>Country</th>\n",
       "      <th>Capital</th>\n",
       "      <th>Population</th>\n",
       "    </tr>\n",
       "  </thead>\n",
       "  <tbody>\n",
       "    <tr>\n",
       "      <th>0</th>\n",
       "      <td>Belgium</td>\n",
       "      <td>Brussels</td>\n",
       "      <td>11190846</td>\n",
       "    </tr>\n",
       "    <tr>\n",
       "      <th>1</th>\n",
       "      <td>India</td>\n",
       "      <td>New Delhi</td>\n",
       "      <td>1303171035</td>\n",
       "    </tr>\n",
       "    <tr>\n",
       "      <th>2</th>\n",
       "      <td>Brazil</td>\n",
       "      <td>Brasília</td>\n",
       "      <td>207847528</td>\n",
       "    </tr>\n",
       "  </tbody>\n",
       "</table>\n",
       "</div>"
      ],
      "text/plain": [
       "   Country    Capital  Population\n",
       "0  Belgium   Brussels    11190846\n",
       "1    India  New Delhi  1303171035\n",
       "2   Brazil   Brasília   207847528"
      ]
     },
     "execution_count": 18,
     "metadata": {},
     "output_type": "execute_result"
    },
    {
     "data": {
      "text/plain": [
       "'Belgium'"
      ]
     },
     "execution_count": 18,
     "metadata": {},
     "output_type": "execute_result"
    },
    {
     "data": {
      "text/plain": [
       "'Belgium'"
      ]
     },
     "execution_count": 18,
     "metadata": {},
     "output_type": "execute_result"
    }
   ],
   "source": [
    "# by position\n",
    "# 选择(0,0)的元素\n",
    "df\n",
    "df.iloc[0,0]\n",
    "df.iat[0,0]"
   ]
  },
  {
   "cell_type": "code",
   "execution_count": 16,
   "id": "052d3d65",
   "metadata": {
    "ExecuteTime": {
     "end_time": "2023-05-05T11:50:45.468520Z",
     "start_time": "2023-05-05T11:50:45.458657Z"
    }
   },
   "outputs": [
    {
     "data": {
      "text/plain": [
       "'Belgium'"
      ]
     },
     "execution_count": 16,
     "metadata": {},
     "output_type": "execute_result"
    },
    {
     "data": {
      "text/plain": [
       "'Belgium'"
      ]
     },
     "execution_count": 16,
     "metadata": {},
     "output_type": "execute_result"
    }
   ],
   "source": [
    "# By Label\n",
    "df.loc[0, 'Country'] #选择第0行Country列\n",
    "df.at[0, 'Country']\n",
    "\n",
    "# Notice:\n",
    "# 在访问单个标量值时，.at比.loc快，但它只适用于一次访问一个值。\n"
   ]
  },
  {
   "cell_type": "code",
   "execution_count": 34,
   "id": "230a6b1b",
   "metadata": {
    "ExecuteTime": {
     "end_time": "2023-05-05T12:05:53.826772Z",
     "start_time": "2023-05-05T12:05:53.802460Z"
    }
   },
   "outputs": [
    {
     "data": {
      "text/plain": [
       "a    1\n",
       "b    2\n",
       "c    3\n",
       "d    4\n",
       "dtype: int64"
      ]
     },
     "execution_count": 34,
     "metadata": {},
     "output_type": "execute_result"
    },
    {
     "data": {
      "text/plain": [
       "a    1\n",
       "dtype: int64"
      ]
     },
     "execution_count": 34,
     "metadata": {},
     "output_type": "execute_result"
    },
    {
     "data": {
      "text/plain": [
       "c    3\n",
       "d    4\n",
       "dtype: int64"
      ]
     },
     "execution_count": 34,
     "metadata": {},
     "output_type": "execute_result"
    },
    {
     "data": {
      "text/plain": [
       "0    False\n",
       "1     True\n",
       "2    False\n",
       "Name: Population, dtype: bool"
      ]
     },
     "execution_count": 34,
     "metadata": {},
     "output_type": "execute_result"
    },
    {
     "data": {
      "text/html": [
       "<div>\n",
       "<style scoped>\n",
       "    .dataframe tbody tr th:only-of-type {\n",
       "        vertical-align: middle;\n",
       "    }\n",
       "\n",
       "    .dataframe tbody tr th {\n",
       "        vertical-align: top;\n",
       "    }\n",
       "\n",
       "    .dataframe thead th {\n",
       "        text-align: right;\n",
       "    }\n",
       "</style>\n",
       "<table border=\"1\" class=\"dataframe\">\n",
       "  <thead>\n",
       "    <tr style=\"text-align: right;\">\n",
       "      <th></th>\n",
       "      <th>Country</th>\n",
       "      <th>Capital</th>\n",
       "      <th>Population</th>\n",
       "    </tr>\n",
       "  </thead>\n",
       "  <tbody>\n",
       "    <tr>\n",
       "      <th>1</th>\n",
       "      <td>India</td>\n",
       "      <td>New Delhi</td>\n",
       "      <td>1303171035</td>\n",
       "    </tr>\n",
       "  </tbody>\n",
       "</table>\n",
       "</div>"
      ],
      "text/plain": [
       "  Country    Capital  Population\n",
       "1   India  New Delhi  1303171035"
      ]
     },
     "execution_count": 34,
     "metadata": {},
     "output_type": "execute_result"
    }
   ],
   "source": [
    "#  Boolean Indexing\n",
    "\n",
    "s\n",
    "\n",
    "# 选择Series对象s中所有<=1的元素\n",
    "# ~ 取反操作\n",
    "s[~(s>1)]\n",
    "\n",
    "s[ (s<-1) | (s>2) ]\n",
    "\n",
    "df['Population']>1200000000  # -> 返回的是一个bool类型的Series对象\n",
    "df[ df['Population']>1200000000 ]\n"
   ]
  },
  {
   "cell_type": "code",
   "execution_count": 35,
   "id": "582f3608",
   "metadata": {
    "ExecuteTime": {
     "end_time": "2023-05-05T12:05:55.625754Z",
     "start_time": "2023-05-05T12:05:55.615410Z"
    }
   },
   "outputs": [
    {
     "data": {
      "text/plain": [
       "a    1\n",
       "b    2\n",
       "c    3\n",
       "d    4\n",
       "dtype: int64"
      ]
     },
     "execution_count": 35,
     "metadata": {},
     "output_type": "execute_result"
    },
    {
     "data": {
      "text/plain": [
       "a    6\n",
       "b    2\n",
       "c    3\n",
       "d    4\n",
       "dtype: int64"
      ]
     },
     "execution_count": 35,
     "metadata": {},
     "output_type": "execute_result"
    }
   ],
   "source": [
    "# 修改索引a的值为6\n",
    "s\n",
    "s['a'] = 6 #  结果会被修改 - 因为是赋值操作，会直接在原始的Series对象上进行更改，而不会创建新的对象\n",
    "s\n"
   ]
  },
  {
   "cell_type": "code",
   "execution_count": 38,
   "id": "a403a738",
   "metadata": {
    "ExecuteTime": {
     "end_time": "2023-05-05T12:10:21.753794Z",
     "start_time": "2023-05-05T12:10:21.742319Z"
    }
   },
   "outputs": [
    {
     "data": {
      "text/plain": [
       "a    6\n",
       "b    2\n",
       "dtype: int64"
      ]
     },
     "execution_count": 38,
     "metadata": {},
     "output_type": "execute_result"
    }
   ],
   "source": [
    "s[0:2] # 左闭右开"
   ]
  },
  {
   "cell_type": "markdown",
   "id": "b62975ef",
   "metadata": {
    "ExecuteTime": {
     "end_time": "2023-05-05T11:50:27.170885Z",
     "start_time": "2023-05-05T11:50:27.167476Z"
    }
   },
   "source": [
    "### loc和iloc区别"
   ]
  },
  {
   "cell_type": "markdown",
   "id": "b220eb30",
   "metadata": {
    "ExecuteTime": {
     "end_time": "2023-05-05T11:53:31.200595Z",
     "start_time": "2023-05-05T11:53:31.186213Z"
    }
   },
   "source": [
    "1. loc: location - `df.loc[0, 'Country']`\n",
    "2. iloc: integer location - `df.iloc[0,0]`"
   ]
  },
  {
   "attachments": {
    "image.png": {
     "image/png": "[encoded data removed]"
    }
   },
   "cell_type": "markdown",
   "id": "823c1854",
   "metadata": {},
   "source": [
    "![image.png](attachment:image.png)"
   ]
  },
  {
   "cell_type": "markdown",
   "id": "e356e7f6",
   "metadata": {
    "ExecuteTime": {
     "end_time": "2023-05-05T12:57:03.085040Z",
     "start_time": "2023-05-05T12:57:03.057633Z"
    }
   },
   "source": [
    "## Retrieving Series/DataFrame Information"
   ]
  },
  {
   "cell_type": "code",
   "execution_count": 45,
   "id": "d64de80e",
   "metadata": {
    "ExecuteTime": {
     "end_time": "2023-05-05T13:00:11.674616Z",
     "start_time": "2023-05-05T13:00:11.641308Z"
    }
   },
   "outputs": [
    {
     "data": {
      "text/html": [
       "<div>\n",
       "<style scoped>\n",
       "    .dataframe tbody tr th:only-of-type {\n",
       "        vertical-align: middle;\n",
       "    }\n",
       "\n",
       "    .dataframe tbody tr th {\n",
       "        vertical-align: top;\n",
       "    }\n",
       "\n",
       "    .dataframe thead th {\n",
       "        text-align: right;\n",
       "    }\n",
       "</style>\n",
       "<table border=\"1\" class=\"dataframe\">\n",
       "  <thead>\n",
       "    <tr style=\"text-align: right;\">\n",
       "      <th></th>\n",
       "      <th>Country</th>\n",
       "      <th>Capital</th>\n",
       "      <th>Population</th>\n",
       "    </tr>\n",
       "  </thead>\n",
       "  <tbody>\n",
       "    <tr>\n",
       "      <th>0</th>\n",
       "      <td>Belgium</td>\n",
       "      <td>Brussels</td>\n",
       "      <td>11190846</td>\n",
       "    </tr>\n",
       "    <tr>\n",
       "      <th>1</th>\n",
       "      <td>India</td>\n",
       "      <td>New Delhi</td>\n",
       "      <td>1303171035</td>\n",
       "    </tr>\n",
       "    <tr>\n",
       "      <th>2</th>\n",
       "      <td>Brazil</td>\n",
       "      <td>Brasília</td>\n",
       "      <td>207847528</td>\n",
       "    </tr>\n",
       "  </tbody>\n",
       "</table>\n",
       "</div>"
      ],
      "text/plain": [
       "   Country    Capital  Population\n",
       "0  Belgium   Brussels    11190846\n",
       "1    India  New Delhi  1303171035\n",
       "2   Brazil   Brasília   207847528"
      ]
     },
     "execution_count": 45,
     "metadata": {},
     "output_type": "execute_result"
    },
    {
     "data": {
      "text/plain": [
       "(3, 3)"
      ]
     },
     "execution_count": 45,
     "metadata": {},
     "output_type": "execute_result"
    },
    {
     "data": {
      "text/plain": [
       "RangeIndex(start=0, stop=3, step=1)"
      ]
     },
     "execution_count": 45,
     "metadata": {},
     "output_type": "execute_result"
    },
    {
     "data": {
      "text/plain": [
       "Index(['Country', 'Capital', 'Population'], dtype='object')"
      ]
     },
     "execution_count": 45,
     "metadata": {},
     "output_type": "execute_result"
    },
    {
     "data": {
      "text/plain": [
       "Country       3\n",
       "Capital       3\n",
       "Population    3\n",
       "dtype: int64"
      ]
     },
     "execution_count": 45,
     "metadata": {},
     "output_type": "execute_result"
    },
    {
     "name": "stdout",
     "output_type": "stream",
     "text": [
      "<class 'pandas.core.frame.DataFrame'>\n",
      "RangeIndex: 3 entries, 0 to 2\n",
      "Data columns (total 3 columns):\n",
      " #   Column      Non-Null Count  Dtype \n",
      "---  ------      --------------  ----- \n",
      " 0   Country     3 non-null      object\n",
      " 1   Capital     3 non-null      object\n",
      " 2   Population  3 non-null      int64 \n",
      "dtypes: int64(1), object(2)\n",
      "memory usage: 200.0+ bytes\n"
     ]
    }
   ],
   "source": [
    "### Basic Information\n",
    "df\n",
    "df.shape # (3, 3)\n",
    "\n",
    "# RangeIndex是Pandas在创建DataFrame时的默认索引\n",
    "# 类似Python内置的range()函数，节省内存，因为它不会明确地存储所有的索引值，而是在需要时即时生成。\n",
    "df.index # RangeIndex(start=0, stop=3, step=1)\n",
    "\n",
    "df.columns # Index(['Country', 'Capital', 'Population'], dtype='object')\n",
    "df.count()\n",
    "df.info()"
   ]
  },
  {
   "cell_type": "markdown",
   "id": "1391fc48",
   "metadata": {
    "ExecuteTime": {
     "end_time": "2023-05-05T13:00:16.698067Z",
     "start_time": "2023-05-05T13:00:16.693236Z"
    }
   },
   "source": [
    "### Summary"
   ]
  },
  {
   "cell_type": "code",
   "execution_count": 50,
   "id": "ed04de2a",
   "metadata": {
    "ExecuteTime": {
     "end_time": "2023-05-05T14:17:55.605642Z",
     "start_time": "2023-05-05T14:17:55.585659Z"
    }
   },
   "outputs": [
    {
     "data": {
      "text/plain": [
       "Country              BelgiumIndiaBrazil\n",
       "Capital       BrusselsNew DelhiBrasília\n",
       "Population                   1522209409\n",
       "dtype: object"
      ]
     },
     "execution_count": 50,
     "metadata": {},
     "output_type": "execute_result"
    }
   ],
   "source": [
    "df.sum() # 返回所有列的总和\n",
    "# axis=0，返回每一列所有元素之和\n",
    "# axis=1，返回每一行所有元素之和"
   ]
  },
  {
   "cell_type": "code",
   "execution_count": 52,
   "id": "f538ffac",
   "metadata": {
    "ExecuteTime": {
     "end_time": "2023-05-05T16:28:29.204039Z",
     "start_time": "2023-05-05T16:28:29.175813Z"
    }
   },
   "outputs": [
    {
     "data": {
      "text/html": [
       "<div>\n",
       "<style scoped>\n",
       "    .dataframe tbody tr th:only-of-type {\n",
       "        vertical-align: middle;\n",
       "    }\n",
       "\n",
       "    .dataframe tbody tr th {\n",
       "        vertical-align: top;\n",
       "    }\n",
       "\n",
       "    .dataframe thead th {\n",
       "        text-align: right;\n",
       "    }\n",
       "</style>\n",
       "<table border=\"1\" class=\"dataframe\">\n",
       "  <thead>\n",
       "    <tr style=\"text-align: right;\">\n",
       "      <th></th>\n",
       "      <th>Country</th>\n",
       "      <th>Capital</th>\n",
       "      <th>Population</th>\n",
       "    </tr>\n",
       "  </thead>\n",
       "  <tbody>\n",
       "    <tr>\n",
       "      <th>0</th>\n",
       "      <td>Belgium</td>\n",
       "      <td>Brussels</td>\n",
       "      <td>11190846</td>\n",
       "    </tr>\n",
       "    <tr>\n",
       "      <th>1</th>\n",
       "      <td>India</td>\n",
       "      <td>New Delhi</td>\n",
       "      <td>1303171035</td>\n",
       "    </tr>\n",
       "    <tr>\n",
       "      <th>2</th>\n",
       "      <td>Brazil</td>\n",
       "      <td>Brasília</td>\n",
       "      <td>207847528</td>\n",
       "    </tr>\n",
       "  </tbody>\n",
       "</table>\n",
       "</div>"
      ],
      "text/plain": [
       "   Country    Capital  Population\n",
       "0  Belgium   Brussels    11190846\n",
       "1    India  New Delhi  1303171035\n",
       "2   Brazil   Brasília   207847528"
      ]
     },
     "execution_count": 52,
     "metadata": {},
     "output_type": "execute_result"
    },
    {
     "data": {
      "text/html": [
       "<div>\n",
       "<style scoped>\n",
       "    .dataframe tbody tr th:only-of-type {\n",
       "        vertical-align: middle;\n",
       "    }\n",
       "\n",
       "    .dataframe tbody tr th {\n",
       "        vertical-align: top;\n",
       "    }\n",
       "\n",
       "    .dataframe thead th {\n",
       "        text-align: right;\n",
       "    }\n",
       "</style>\n",
       "<table border=\"1\" class=\"dataframe\">\n",
       "  <thead>\n",
       "    <tr style=\"text-align: right;\">\n",
       "      <th></th>\n",
       "      <th>Country</th>\n",
       "      <th>Capital</th>\n",
       "      <th>Population</th>\n",
       "    </tr>\n",
       "  </thead>\n",
       "  <tbody>\n",
       "    <tr>\n",
       "      <th>0</th>\n",
       "      <td>Belgium</td>\n",
       "      <td>Brussels</td>\n",
       "      <td>11190846</td>\n",
       "    </tr>\n",
       "    <tr>\n",
       "      <th>1</th>\n",
       "      <td>BelgiumIndia</td>\n",
       "      <td>BrusselsNew Delhi</td>\n",
       "      <td>1314361881</td>\n",
       "    </tr>\n",
       "    <tr>\n",
       "      <th>2</th>\n",
       "      <td>BelgiumIndiaBrazil</td>\n",
       "      <td>BrusselsNew DelhiBrasília</td>\n",
       "      <td>1522209409</td>\n",
       "    </tr>\n",
       "  </tbody>\n",
       "</table>\n",
       "</div>"
      ],
      "text/plain": [
       "              Country                    Capital  Population\n",
       "0             Belgium                   Brussels    11190846\n",
       "1        BelgiumIndia          BrusselsNew Delhi  1314361881\n",
       "2  BelgiumIndiaBrazil  BrusselsNew DelhiBrasília  1522209409"
      ]
     },
     "execution_count": 52,
     "metadata": {},
     "output_type": "execute_result"
    }
   ],
   "source": [
    "df\n",
    "df.cumsum() # 累加结果\n",
    "# 第一行的结果\n",
    "# 第一行+第二行的结果\n",
    "# 第一行+第二行+第三行的结果"
   ]
  },
  {
   "cell_type": "code",
   "execution_count": 53,
   "id": "e1805fc0",
   "metadata": {
    "ExecuteTime": {
     "end_time": "2023-05-05T16:30:18.534333Z",
     "start_time": "2023-05-05T16:30:18.491129Z"
    }
   },
   "outputs": [
    {
     "data": {
      "text/plain": [
       "Country        Belgium\n",
       "Capital       Brasília\n",
       "Population    11190846\n",
       "dtype: object"
      ]
     },
     "execution_count": 53,
     "metadata": {},
     "output_type": "execute_result"
    },
    {
     "data": {
      "text/plain": [
       "Country            India\n",
       "Capital        New Delhi\n",
       "Population    1303171035\n",
       "dtype: object"
      ]
     },
     "execution_count": 53,
     "metadata": {},
     "output_type": "execute_result"
    }
   ],
   "source": [
    "df.min()\n",
    "df.max()"
   ]
  },
  {
   "cell_type": "code",
   "execution_count": 60,
   "id": "3fcf3c65",
   "metadata": {
    "ExecuteTime": {
     "end_time": "2023-05-05T19:02:02.696601Z",
     "start_time": "2023-05-05T19:02:02.674672Z"
    }
   },
   "outputs": [
    {
     "data": {
      "text/plain": [
       "0"
      ]
     },
     "execution_count": 60,
     "metadata": {},
     "output_type": "execute_result"
    },
    {
     "data": {
      "text/plain": [
       "1"
      ]
     },
     "execution_count": 60,
     "metadata": {},
     "output_type": "execute_result"
    }
   ],
   "source": [
    "df['Population'].idxmin()\n",
    "df['Population'].idxmax()\n",
    "\n",
    "# Minimum/Maximum index value"
   ]
  },
  {
   "cell_type": "code",
   "execution_count": 61,
   "id": "f62a778d",
   "metadata": {
    "ExecuteTime": {
     "end_time": "2023-05-05T19:02:39.334636Z",
     "start_time": "2023-05-05T19:02:39.255065Z"
    }
   },
   "outputs": [
    {
     "data": {
      "text/html": [
       "<div>\n",
       "<style scoped>\n",
       "    .dataframe tbody tr th:only-of-type {\n",
       "        vertical-align: middle;\n",
       "    }\n",
       "\n",
       "    .dataframe tbody tr th {\n",
       "        vertical-align: top;\n",
       "    }\n",
       "\n",
       "    .dataframe thead th {\n",
       "        text-align: right;\n",
       "    }\n",
       "</style>\n",
       "<table border=\"1\" class=\"dataframe\">\n",
       "  <thead>\n",
       "    <tr style=\"text-align: right;\">\n",
       "      <th></th>\n",
       "      <th>Population</th>\n",
       "    </tr>\n",
       "  </thead>\n",
       "  <tbody>\n",
       "    <tr>\n",
       "      <th>count</th>\n",
       "      <td>3.000000e+00</td>\n",
       "    </tr>\n",
       "    <tr>\n",
       "      <th>mean</th>\n",
       "      <td>5.074031e+08</td>\n",
       "    </tr>\n",
       "    <tr>\n",
       "      <th>std</th>\n",
       "      <td>6.961346e+08</td>\n",
       "    </tr>\n",
       "    <tr>\n",
       "      <th>min</th>\n",
       "      <td>1.119085e+07</td>\n",
       "    </tr>\n",
       "    <tr>\n",
       "      <th>25%</th>\n",
       "      <td>1.095192e+08</td>\n",
       "    </tr>\n",
       "    <tr>\n",
       "      <th>50%</th>\n",
       "      <td>2.078475e+08</td>\n",
       "    </tr>\n",
       "    <tr>\n",
       "      <th>75%</th>\n",
       "      <td>7.555093e+08</td>\n",
       "    </tr>\n",
       "    <tr>\n",
       "      <th>max</th>\n",
       "      <td>1.303171e+09</td>\n",
       "    </tr>\n",
       "  </tbody>\n",
       "</table>\n",
       "</div>"
      ],
      "text/plain": [
       "         Population\n",
       "count  3.000000e+00\n",
       "mean   5.074031e+08\n",
       "std    6.961346e+08\n",
       "min    1.119085e+07\n",
       "25%    1.095192e+08\n",
       "50%    2.078475e+08\n",
       "75%    7.555093e+08\n",
       "max    1.303171e+09"
      ]
     },
     "execution_count": 61,
     "metadata": {},
     "output_type": "execute_result"
    }
   ],
   "source": [
    "# Summary statistics统计数据汇总\n",
    "df.describe()"
   ]
  },
  {
   "cell_type": "code",
   "execution_count": 63,
   "id": "64a716a2",
   "metadata": {
    "ExecuteTime": {
     "end_time": "2023-05-05T19:05:06.459488Z",
     "start_time": "2023-05-05T19:05:06.440431Z"
    }
   },
   "outputs": [
    {
     "data": {
      "text/plain": [
       "Population    5.074031e+08\n",
       "dtype: float64"
      ]
     },
     "execution_count": 63,
     "metadata": {},
     "output_type": "execute_result"
    },
    {
     "data": {
      "text/plain": [
       "Population    5.074031e+08\n",
       "dtype: float64"
      ]
     },
     "execution_count": 63,
     "metadata": {},
     "output_type": "execute_result"
    }
   ],
   "source": [
    "# 平均值\n",
    "# df.mean() - 仅针对数字列\n",
    "\n",
    "# Selecting only numeric columns\n",
    "df.select_dtypes(include='number').mean()\n",
    "\n",
    "# Using the 'numeric_only' parameter\n",
    "df.mean(numeric_only=True)\n",
    "\n"
   ]
  },
  {
   "cell_type": "code",
   "execution_count": 65,
   "id": "a82c0aec",
   "metadata": {
    "ExecuteTime": {
     "end_time": "2023-05-05T19:06:27.238536Z",
     "start_time": "2023-05-05T19:06:27.218975Z"
    }
   },
   "outputs": [
    {
     "data": {
      "text/plain": [
       "Population    207847528.0\n",
       "dtype: float64"
      ]
     },
     "execution_count": 65,
     "metadata": {},
     "output_type": "execute_result"
    }
   ],
   "source": [
    "# 中位数\n",
    "df.median(numeric_only=True) # 仅选择包含数字数据的列"
   ]
  },
  {
   "cell_type": "code",
   "execution_count": null,
   "id": "2d4437cb",
   "metadata": {},
   "outputs": [],
   "source": [
    "## Applying Functions"
   ]
  },
  {
   "cell_type": "code",
   "execution_count": 71,
   "id": "5cb509cb",
   "metadata": {
    "ExecuteTime": {
     "end_time": "2023-05-05T19:08:35.917497Z",
     "start_time": "2023-05-05T19:08:35.893017Z"
    }
   },
   "outputs": [
    {
     "data": {
      "text/html": [
       "<div>\n",
       "<style scoped>\n",
       "    .dataframe tbody tr th:only-of-type {\n",
       "        vertical-align: middle;\n",
       "    }\n",
       "\n",
       "    .dataframe tbody tr th {\n",
       "        vertical-align: top;\n",
       "    }\n",
       "\n",
       "    .dataframe thead th {\n",
       "        text-align: right;\n",
       "    }\n",
       "</style>\n",
       "<table border=\"1\" class=\"dataframe\">\n",
       "  <thead>\n",
       "    <tr style=\"text-align: right;\">\n",
       "      <th></th>\n",
       "      <th>Country</th>\n",
       "      <th>Capital</th>\n",
       "      <th>Population</th>\n",
       "    </tr>\n",
       "  </thead>\n",
       "  <tbody>\n",
       "    <tr>\n",
       "      <th>0</th>\n",
       "      <td>Belgium</td>\n",
       "      <td>Brussels</td>\n",
       "      <td>11190846</td>\n",
       "    </tr>\n",
       "    <tr>\n",
       "      <th>1</th>\n",
       "      <td>India</td>\n",
       "      <td>New Delhi</td>\n",
       "      <td>1303171035</td>\n",
       "    </tr>\n",
       "    <tr>\n",
       "      <th>2</th>\n",
       "      <td>Brazil</td>\n",
       "      <td>Brasília</td>\n",
       "      <td>207847528</td>\n",
       "    </tr>\n",
       "  </tbody>\n",
       "</table>\n",
       "</div>"
      ],
      "text/plain": [
       "   Country    Capital  Population\n",
       "0  Belgium   Brussels    11190846\n",
       "1    India  New Delhi  1303171035\n",
       "2   Brazil   Brasília   207847528"
      ]
     },
     "execution_count": 71,
     "metadata": {},
     "output_type": "execute_result"
    },
    {
     "data": {
      "text/plain": [
       "<function __main__.<lambda>(x)>"
      ]
     },
     "execution_count": 71,
     "metadata": {},
     "output_type": "execute_result"
    },
    {
     "data": {
      "text/html": [
       "<div>\n",
       "<style scoped>\n",
       "    .dataframe tbody tr th:only-of-type {\n",
       "        vertical-align: middle;\n",
       "    }\n",
       "\n",
       "    .dataframe tbody tr th {\n",
       "        vertical-align: top;\n",
       "    }\n",
       "\n",
       "    .dataframe thead th {\n",
       "        text-align: right;\n",
       "    }\n",
       "</style>\n",
       "<table border=\"1\" class=\"dataframe\">\n",
       "  <thead>\n",
       "    <tr style=\"text-align: right;\">\n",
       "      <th></th>\n",
       "      <th>Country</th>\n",
       "      <th>Capital</th>\n",
       "      <th>Population</th>\n",
       "    </tr>\n",
       "  </thead>\n",
       "  <tbody>\n",
       "    <tr>\n",
       "      <th>0</th>\n",
       "      <td>BelgiumBelgium</td>\n",
       "      <td>BrusselsBrussels</td>\n",
       "      <td>22381692</td>\n",
       "    </tr>\n",
       "    <tr>\n",
       "      <th>1</th>\n",
       "      <td>IndiaIndia</td>\n",
       "      <td>New DelhiNew Delhi</td>\n",
       "      <td>2606342070</td>\n",
       "    </tr>\n",
       "    <tr>\n",
       "      <th>2</th>\n",
       "      <td>BrazilBrazil</td>\n",
       "      <td>BrasíliaBrasília</td>\n",
       "      <td>415695056</td>\n",
       "    </tr>\n",
       "  </tbody>\n",
       "</table>\n",
       "</div>"
      ],
      "text/plain": [
       "          Country             Capital  Population\n",
       "0  BelgiumBelgium    BrusselsBrussels    22381692\n",
       "1      IndiaIndia  New DelhiNew Delhi  2606342070\n",
       "2    BrazilBrazil    BrasíliaBrasília   415695056"
      ]
     },
     "execution_count": 71,
     "metadata": {},
     "output_type": "execute_result"
    },
    {
     "data": {
      "text/html": [
       "<div>\n",
       "<style scoped>\n",
       "    .dataframe tbody tr th:only-of-type {\n",
       "        vertical-align: middle;\n",
       "    }\n",
       "\n",
       "    .dataframe tbody tr th {\n",
       "        vertical-align: top;\n",
       "    }\n",
       "\n",
       "    .dataframe thead th {\n",
       "        text-align: right;\n",
       "    }\n",
       "</style>\n",
       "<table border=\"1\" class=\"dataframe\">\n",
       "  <thead>\n",
       "    <tr style=\"text-align: right;\">\n",
       "      <th></th>\n",
       "      <th>Country</th>\n",
       "      <th>Capital</th>\n",
       "      <th>Population</th>\n",
       "    </tr>\n",
       "  </thead>\n",
       "  <tbody>\n",
       "    <tr>\n",
       "      <th>0</th>\n",
       "      <td>BelgiumBelgium</td>\n",
       "      <td>BrusselsBrussels</td>\n",
       "      <td>22381692</td>\n",
       "    </tr>\n",
       "    <tr>\n",
       "      <th>1</th>\n",
       "      <td>IndiaIndia</td>\n",
       "      <td>New DelhiNew Delhi</td>\n",
       "      <td>2606342070</td>\n",
       "    </tr>\n",
       "    <tr>\n",
       "      <th>2</th>\n",
       "      <td>BrazilBrazil</td>\n",
       "      <td>BrasíliaBrasília</td>\n",
       "      <td>415695056</td>\n",
       "    </tr>\n",
       "  </tbody>\n",
       "</table>\n",
       "</div>"
      ],
      "text/plain": [
       "          Country             Capital  Population\n",
       "0  BelgiumBelgium    BrusselsBrussels    22381692\n",
       "1      IndiaIndia  New DelhiNew Delhi  2606342070\n",
       "2    BrazilBrazil    BrasíliaBrasília   415695056"
      ]
     },
     "execution_count": 71,
     "metadata": {},
     "output_type": "execute_result"
    }
   ],
   "source": [
    "df\n",
    "\n",
    "f = lambda x: x*2\n",
    "f\n",
    "\n",
    "df.apply(f)\n",
    "df.applymap(f) "
   ]
  },
  {
   "cell_type": "markdown",
   "id": "a01fe9f8",
   "metadata": {
    "ExecuteTime": {
     "end_time": "2023-05-05T19:08:50.085789Z",
     "start_time": "2023-05-05T19:08:50.082238Z"
    }
   },
   "source": [
    "## Data Alignment"
   ]
  },
  {
   "cell_type": "markdown",
   "id": "e870cabf",
   "metadata": {},
   "source": [
    "### Internal Data Alignment 内部数据修改"
   ]
  },
  {
   "cell_type": "code",
   "execution_count": 97,
   "id": "957bb6a1",
   "metadata": {
    "ExecuteTime": {
     "end_time": "2023-05-05T19:22:24.139490Z",
     "start_time": "2023-05-05T19:22:24.118820Z"
    }
   },
   "outputs": [
    {
     "data": {
      "text/plain": [
       "a    1\n",
       "b    2\n",
       "c    3\n",
       "d    4\n",
       "dtype: int64"
      ]
     },
     "execution_count": 97,
     "metadata": {},
     "output_type": "execute_result"
    },
    {
     "data": {
      "text/plain": [
       "a    7\n",
       "c   -2\n",
       "d    3\n",
       "dtype: int64"
      ]
     },
     "execution_count": 97,
     "metadata": {},
     "output_type": "execute_result"
    },
    {
     "data": {
      "text/plain": [
       "a    8.0\n",
       "b    NaN\n",
       "c    1.0\n",
       "d    7.0\n",
       "dtype: float64"
      ]
     },
     "execution_count": 97,
     "metadata": {},
     "output_type": "execute_result"
    }
   ],
   "source": [
    "s\n",
    "\n",
    "s1 = pd.Series([7, -2, 3], index=['a', 'c', 'd' ]) \n",
    "s1\n",
    "\n",
    "s + s1"
   ]
  },
  {
   "cell_type": "markdown",
   "id": "4f08bf9c",
   "metadata": {},
   "source": [
    "### Arithmetic Operations with Fill Methods 填充方法的算术运算"
   ]
  },
  {
   "cell_type": "markdown",
   "id": "f9515823",
   "metadata": {},
   "source": [
    "You can also do the internal data alignment yourself with the help of the fill method:"
   ]
  },
  {
   "cell_type": "code",
   "execution_count": 98,
   "id": "d4d6dcfb",
   "metadata": {
    "ExecuteTime": {
     "end_time": "2023-05-05T19:22:32.474261Z",
     "start_time": "2023-05-05T19:22:32.448689Z"
    }
   },
   "outputs": [
    {
     "data": {
      "text/plain": [
       "a    8.0\n",
       "b    2.0\n",
       "c    1.0\n",
       "d    7.0\n",
       "dtype: float64"
      ]
     },
     "execution_count": 98,
     "metadata": {},
     "output_type": "execute_result"
    },
    {
     "data": {
      "text/plain": [
       "a   -6.0\n",
       "b    0.0\n",
       "c    5.0\n",
       "d    1.0\n",
       "dtype: float64"
      ]
     },
     "execution_count": 98,
     "metadata": {},
     "output_type": "execute_result"
    },
    {
     "data": {
      "text/plain": [
       "a    0.142857\n",
       "b    0.500000\n",
       "c   -1.500000\n",
       "d    1.333333\n",
       "dtype: float64"
      ]
     },
     "execution_count": 98,
     "metadata": {},
     "output_type": "execute_result"
    },
    {
     "data": {
      "text/plain": [
       "a     7.0\n",
       "b     6.0\n",
       "c    -6.0\n",
       "d    12.0\n",
       "dtype: float64"
      ]
     },
     "execution_count": 98,
     "metadata": {},
     "output_type": "execute_result"
    },
    {
     "data": {
      "text/plain": [
       "a    1\n",
       "b    2\n",
       "c    3\n",
       "d    4\n",
       "dtype: int64"
      ]
     },
     "execution_count": 98,
     "metadata": {},
     "output_type": "execute_result"
    }
   ],
   "source": [
    "s.add(s1, fill_value=0) # add方法相加，用0填充任何缺失值\n",
    "s.sub(s1, fill_value=2)\n",
    "s.div(s1, fill_value=4)\n",
    "s.mul(s1, fill_value=3)\n",
    "\n",
    "s"
   ]
  },
  {
   "cell_type": "markdown",
   "id": "063b4ac5",
   "metadata": {},
   "source": [
    "## Learning Link\n",
    "https://www.datacamp.com/search?q=pandas"
   ]
  }
 ],
 "metadata": {
  "kernelspec": {
   "display_name": "PyCharm (WebApp(Flask)_MachineLearning)",
   "language": "python",
   "name": "pycharm-616d70e3"
  },
  "language_info": {
   "codemirror_mode": {
    "name": "ipython",
    "version": 3
   },
   "file_extension": ".py",
   "mimetype": "text/x-python",
   "name": "python",
   "nbconvert_exporter": "python",
   "pygments_lexer": "ipython3",
   "version": "3.9.13"
  },
  "toc": {
   "base_numbering": 1,
   "nav_menu": {},
   "number_sections": true,
   "sideBar": true,
   "skip_h1_title": false,
   "title_cell": "Table of Contents",
   "title_sidebar": "Contents",
   "toc_cell": true,
   "toc_position": {
    "height": "calc(100% - 180px)",
    "left": "10px",
    "top": "150px",
    "width": "165px"
   },
   "toc_section_display": true,
   "toc_window_display": false
  },
  "varInspector": {
   "cols": {
    "lenName": 16,
    "lenType": 16,
    "lenVar": 40
   },
   "kernels_config": {
    "python": {
     "delete_cmd_postfix": "",
     "delete_cmd_prefix": "del ",
     "library": "var_list.py",
     "varRefreshCmd": "print(var_dic_list())"
    },
    "r": {
     "delete_cmd_postfix": ") ",
     "delete_cmd_prefix": "rm(",
     "library": "var_list.r",
     "varRefreshCmd": "cat(var_dic_list()) "
    }
   },
   "types_to_exclude": [
    "module",
    "function",
    "builtin_function_or_method",
    "instance",
    "_Feature"
   ],
   "window_display": false
  }
 },
 "nbformat": 4,
 "nbformat_minor": 5
}
